{
    "nbformat_minor": 1, 
    "cells": [
        {
            "source": "<h1>New restaurant in Moscow.</h1>", 
            "cell_type": "markdown", 
            "metadata": {
                "collapsed": true
            }
        }, 
        {
            "source": "<h2>1. Introduction (the business problem and who would be interested in this project).</h2>", 
            "cell_type": "markdown", 
            "metadata": {}
        }, 
        {
            "source": "<p>Someone wants to open a new restaurant in Moscow. Type of the restaurant - average prices, within the city. <b>The goal</b> is to recommend where they can open it.</p> \n\n<p><b>Stakeholders</b> - medium-sized businesses, looking for a stable source of profit but who do not have enough sources to create a high-class venue. The city center is full of restaurants, the competition is very high and the rental price is too high, so people are looking for alternative places.</p>", 
            "cell_type": "markdown", 
            "metadata": {}
        }, 
        {
            "source": "<h2>2. Data (the data that will be used to solve the problem and the source of the data).</h2>", 
            "cell_type": "markdown", 
            "metadata": {}
        }, 
        {
            "source": "<p><b>Main data source</b> - Foursquare.</p>\n<p>Find all venues within 5 km from the city center (Red Square). </p>\n<p>Group venues by neighborhoods. </p>\n<p> Add venues ranking by neighborhoods.</p>\n<p>Cluster Neighborhoods.</p>\n<p>Drop clusters with restaurants in top venues as there will be too high competition</p>\n<p>Analyze rest clusters, find the one with the highest frequency of fashion shops and business centers in the top.</p>", 
            "cell_type": "markdown", 
            "metadata": {}
        }, 
        {
            "source": "<h2>3. Methodology (any exploratory data analysis that you did, any inferential statistical testing that you performed, and what machine learnings were used and why).</h2>", 
            "cell_type": "markdown", 
            "metadata": {}
        }, 
        {
            "execution_count": 7, 
            "cell_type": "code", 
            "metadata": {}, 
            "outputs": [], 
            "source": "import numpy as np \nimport pandas as pd \npd.set_option('display.max_columns', None)\npd.set_option('display.max_rows', None)\nimport json \n\n#!conda install -c conda-forge geopy --yes # uncomment this line if you haven't completed the Foursquare API lab\n#from geopy.geocoders import Nominatim # convert an address into latitude and longitude values\n\nimport requests \nfrom pandas.io.json import json_normalize \n\nimport matplotlib.cm as cm\nimport matplotlib.colors as colors\n\nfrom sklearn.cluster import KMeans\n\n#!conda install -c conda-forge folium=0.5.0 --yes # uncomment this line if you haven't completed the Foursquare API lab\n#import folium # map rendering library\n"
        }, 
        {
            "source": "<h2>4. Results.</h2>", 
            "cell_type": "markdown", 
            "metadata": {}
        }, 
        {
            "source": "<h2>5. Discussion.</h2>", 
            "cell_type": "markdown", 
            "metadata": {}
        }, 
        {
            "source": "<h2>6. Conclusion.</h2>", 
            "cell_type": "markdown", 
            "metadata": {}
        }, 
        {
            "execution_count": null, 
            "cell_type": "code", 
            "metadata": {}, 
            "outputs": [], 
            "source": ""
        }
    ], 
    "metadata": {
        "kernelspec": {
            "display_name": "Python 3.5", 
            "name": "python3", 
            "language": "python"
        }, 
        "language_info": {
            "mimetype": "text/x-python", 
            "nbconvert_exporter": "python", 
            "version": "3.5.5", 
            "name": "python", 
            "file_extension": ".py", 
            "pygments_lexer": "ipython3", 
            "codemirror_mode": {
                "version": 3, 
                "name": "ipython"
            }
        }
    }, 
    "nbformat": 4
}
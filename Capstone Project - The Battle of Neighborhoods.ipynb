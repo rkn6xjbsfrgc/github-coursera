{
    "nbformat_minor": 1, 
    "cells": [
        {
            "source": "<h1>New restaurant in Moscow.</h1>", 
            "cell_type": "markdown", 
            "metadata": {
                "collapsed": true
            }
        }, 
        {
            "source": "<h3>March, 2019</h3>", 
            "cell_type": "markdown", 
            "metadata": {}
        }, 
        {
            "source": "<h2>I.\tIntroduction</h2>", 
            "cell_type": "markdown", 
            "metadata": {}
        }, 
        {
            "source": "<p>Moscow is a highly developing city. One of tendencies for last 2-3 years is a rapid development and constriction of areas on the outskirts of the city, especially Northwest Administrative District. </p>\n<p>And new business centers and residential areas means that the district needs more social venues, including restaurants and caf\u00e9s.</p>\n<p>In this project I\u2019ll evaluate all existing venues within Northwest Administrative District and try to predict the best area for opening the new restaurant. As it\u2019s not the city center and the district is still developing the competition should be lower as well as the rental price for next few years when the expenses of the new business are the highest.</p>\n", 
            "cell_type": "markdown", 
            "metadata": {}
        }, 
        {
            "source": "<h2>II.\tData description.</h2>", 
            "cell_type": "markdown", 
            "metadata": {}
        }, 
        {
            "source": "<p>I used Foursquare to get the list of venues in Moscow. </p>\n<p>There are no public data for geo coordinates of the district so I had to create my own base.  I used Google Maps to find the center of each area including to the Northwest Administrative District.</p>", 
            "cell_type": "markdown", 
            "metadata": {}
        }, 
        {
            "source": "<h2>III.\tMethodology description.</h2>", 
            "cell_type": "markdown", 
            "metadata": {}
        }, 
        {
            "source": "<p>For database of areas within the chosen district I created my own dataframe (using Google Maps for coordinates). </p>", 
            "cell_type": "markdown", 
            "metadata": {}
        }, 
        {
            "source": "#import libraties\nimport numpy as np \nimport pandas as pd \npd.set_option('display.max_columns', None)\npd.set_option('display.max_rows', None)\nimport json \n!conda install -c conda-forge geopy --yes \nfrom geopy.geocoders import Nominatim \n\nfrom pandas.io.json import json_normalize \nimport matplotlib.cm as cm\nimport matplotlib.colors as colors\nfrom sklearn.cluster import KMeans\n!conda install -c conda-forge folium=0.5.0 --yes \nimport folium \n\n#set Fooursquare credentials\nCLIENT_ID = 'YB3J2EUQC3VKPOTICQVQBHQNABLSBH0NR1FSMCOCAGRVT5DG' \nCLIENT_SECRET = 'VCUJLBIG2WEATY1IFG42FETVXVEB45HTHOK3RY2CNOBAXPWW'\nVERSION = '20180605' \nprint('Libraries imported')", 
            "cell_type": "code", 
            "metadata": {}, 
            "outputs": [
                {
                    "output_type": "stream", 
                    "name": "stdout", 
                    "text": "Fetching package metadata .............\nSolving package specifications: .\n\n# All requested packages already installed.\n# packages in environment at /opt/conda/envs/DSX-Python35:\n#\ngeopy                     1.18.1                     py_0    conda-forge\nFetching package metadata .............\nSolving package specifications: .\n\n# All requested packages already installed.\n# packages in environment at /opt/conda/envs/DSX-Python35:\n#\nfolium                    0.5.0                      py_0    conda-forge\nLibraries imported\n"
                }
            ], 
            "execution_count": 283
        }, 
        {
            "source": "#Create the additional df for chosenMoscow region.\n\nmdist = {'District': ['Kurkino','Mitino', 'Pokrovskoe-Streshnevo', 'Strogino', 'North Tushino', 'South Tushino', 'Khoroshovo-Mnevniki', 'Shchukino'\n], 'Latitude':[55.891917, 55.850973, 55.821969, 55.789169, 55.859291, 55.845282, 55.774161, 55.802158], 'Longitude': [37.388824, 37.366766, 37.448387, \n37.394399, 37.425743, 37.428557, 37.473079, 37.467494]}\n\ndf_mdist = pd.DataFrame(data=mdist)\ndf_mdist.head(10)", 
            "cell_type": "code", 
            "metadata": {}, 
            "outputs": [
                {
                    "output_type": "execute_result", 
                    "data": {
                        "text/html": "<div>\n<style scoped>\n    .dataframe tbody tr th:only-of-type {\n        vertical-align: middle;\n    }\n\n    .dataframe tbody tr th {\n        vertical-align: top;\n    }\n\n    .dataframe thead th {\n        text-align: right;\n    }\n</style>\n<table border=\"1\" class=\"dataframe\">\n  <thead>\n    <tr style=\"text-align: right;\">\n      <th></th>\n      <th>District</th>\n      <th>Latitude</th>\n      <th>Longitude</th>\n    </tr>\n  </thead>\n  <tbody>\n    <tr>\n      <th>0</th>\n      <td>Kurkino</td>\n      <td>55.891917</td>\n      <td>37.388824</td>\n    </tr>\n    <tr>\n      <th>1</th>\n      <td>Mitino</td>\n      <td>55.850973</td>\n      <td>37.366766</td>\n    </tr>\n    <tr>\n      <th>2</th>\n      <td>Pokrovskoe-Streshnevo</td>\n      <td>55.821969</td>\n      <td>37.448387</td>\n    </tr>\n    <tr>\n      <th>3</th>\n      <td>Strogino</td>\n      <td>55.789169</td>\n      <td>37.394399</td>\n    </tr>\n    <tr>\n      <th>4</th>\n      <td>North Tushino</td>\n      <td>55.859291</td>\n      <td>37.425743</td>\n    </tr>\n    <tr>\n      <th>5</th>\n      <td>South Tushino</td>\n      <td>55.845282</td>\n      <td>37.428557</td>\n    </tr>\n    <tr>\n      <th>6</th>\n      <td>Khoroshovo-Mnevniki</td>\n      <td>55.774161</td>\n      <td>37.473079</td>\n    </tr>\n    <tr>\n      <th>7</th>\n      <td>Shchukino</td>\n      <td>55.802158</td>\n      <td>37.467494</td>\n    </tr>\n  </tbody>\n</table>\n</div>", 
                        "text/plain": "                District   Latitude  Longitude\n0                Kurkino  55.891917  37.388824\n1                 Mitino  55.850973  37.366766\n2  Pokrovskoe-Streshnevo  55.821969  37.448387\n3               Strogino  55.789169  37.394399\n4          North Tushino  55.859291  37.425743\n5          South Tushino  55.845282  37.428557\n6    Khoroshovo-Mnevniki  55.774161  37.473079\n7              Shchukino  55.802158  37.467494"
                    }, 
                    "execution_count": 284, 
                    "metadata": {}
                }
            ], 
            "execution_count": 284
        }, 
        {
            "source": "#set Moscow on the map\naddress = '\u0412\u043e\u043b\u043e\u043a\u043e\u043b\u0430\u043c\u0441\u043a\u043e\u0435 \u0448., 69, \u041c\u043e\u0441\u043a\u0432\u0430'\ngeolocator = Nominatim(user_agent=\"moscow_explorer\")\nlocation = geolocator.geocode(address)\nlatitude = location.latitude\nlongitude = location.longitude", 
            "cell_type": "code", 
            "metadata": {}, 
            "outputs": [], 
            "execution_count": 285
        }, 
        {
            "source": "<p>I used python folium library to visualize areas on the map using latitude and longitude.</p>", 
            "cell_type": "markdown", 
            "metadata": {}
        }, 
        {
            "source": "#create a map for the selected region\nmap_moscow = folium.Map(location=[latitude, longitude], zoom_start=12)\nfor lat, lng, district in zip(df_mdist['Latitude'], df_mdist['Longitude'], df_mdist['District']):\n    label = '{}'.format(district)\n    label = folium.Popup(label, parse_html=True)\n    folium.CircleMarker(\n        [lat, lng],\n        radius=7,\n        popup=label,\n        color='red',\n        fill=True,\n        fill_color='red',\n        fill_opacity=0.9,\n        parse_html=False).add_to(map_moscow)  \n    \nmap_moscow", 
            "cell_type": "code", 
            "metadata": {
                "scrolled": true
            }, 
            "outputs": [
                {
                    "output_type": "execute_result", 
                    "data": {
                        "text/html": "<div style=\"width:100%;\"><div style=\"position:relative;width:100%;height:0;padding-bottom:60%;\"><iframe src=\"data:text/html;charset=utf-8;base64,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\" style=\"position:absolute;width:100%;height:100%;left:0;top:0;border:none !important;\" allowfullscreen webkitallowfullscreen mozallowfullscreen></iframe></div></div>", 
                        "text/plain": "<folium.folium.Map at 0x7f5446d43748>"
                    }, 
                    "execution_count": 286, 
                    "metadata": {}
                }
            ], 
            "execution_count": 286
        }, 
        {
            "source": "<p>Then I used Foursquare database to extract all venues by areas. I excluded from Categories the \u2018Food\u2019 (I want to see it on the separate map) and \u2018Colleges and Universities\u2018 (I believe they will not have a great impact on the demand). </p>", 
            "cell_type": "markdown", 
            "metadata": {}
        }, 
        {
            "source": "#creare a function to return venues from all districts for all venues except Food            \nimport requests\n#4d4b7104d754a06370d81259 - \u0418\u0441\u043a\u0443\u0441\u0441\u0442\u0432\u043e \u0438 \u0440\u0430\u0437\u0432\u043b\u0435\u0447\u0435\u043d\u0438\u044f add\n#4d4b7105d754a06372d81259-  \u0412\u044b\u0441\u0448\u0435\u0435 \u0443\u0447\u0435\u0431\u043d\u043e\u0435 \u0437\u0430\u0432\u0435\u0434\u0435\u043d\u0438\u0435 exclude\n#4d4b7105d754a06373d81259 - \u0421\u043e\u0431\u044b\u0442\u0438\u0435 add\n#4d4b7105d754a06376d81259 - \u041d\u043e\u0447\u043d\u043e\u0435 \u0437\u0430\u0432\u0435\u0434\u0435\u043d\u0438\u0435 add\n#4d4b7105d754a06377d81259 - \u0417\u0430\u0432\u0435\u0434\u0435\u043d\u0438\u044f \u043d\u0430 \u0441\u0432\u0435\u0436\u0435\u043c \u0432\u043e\u0437\u0434\u0443\u0445\u0435 add\n#4d4b7105d754a06375d81259 - \u0423\u0441\u043b\u0443\u0433\u0438 \u0438 \u0443\u0447\u0440\u0435\u0436\u0434\u0435\u043d\u0438\u044f add\n#4d4b7105d754a06378d81259 - \u041c\u0430\u0433\u0430\u0437\u0438\u043d\u044b \u0438 \u0443\u0441\u043b\u0443\u0433\u0438\n#4d4b7105d754a06379d81259 - \u041f\u0443\u0442\u0435\u0448\u0435\u0441\u0442\u0432\u0438\u044f \u0438 \u0442\u0440\u0430\u043d\u0441\u043f\u043e\u0440\u0442\n\ndef getNearbyVenues(names, latitudes, longitudes, radius=2000, LIMIT=1000, categoryId='4d4b7104d754a06370d81259,4d4b7105d754a06373d81259,4d4b7105d754a06376d81259,4d4b7105d754a06377d81259,4d4b7105d754a06375d81259,4d4b7105d754a06378d81259,4d4b7105d754a06379d81259'):\n    venues_list=[]\n    for name, lat, lng in zip(names, latitudes, longitudes):\n        url = 'https://api.foursquare.com/v2/venues/explore?&client_id={}&client_secret={}&v={}&ll={},{}&radius={}&limit={}&categoryId={}'.format(\n            CLIENT_ID,CLIENT_SECRET, VERSION, lat, lng, radius, LIMIT, categoryId)\n        results = requests.get(url).json()[\"response\"]['groups'][0]['items']\n        venues_list.append([(\n            name, lat, lng, v['venue']['name'], v['venue']['location']['lat'], v['venue']['location']['lng'], v['venue']['categories'][0]['name']) for v in results])\n    nearby_venues = pd.DataFrame([item for venue_list in venues_list for item in venue_list])\n    nearby_venues.columns = ['District', \n                  'District Latitude', 'District Longitude', 'Venue', 'Venue Latitude', 'Venue Longitude', 'Venue Category']    \n    return(nearby_venues)", 
            "cell_type": "code", 
            "metadata": {}, 
            "outputs": [], 
            "execution_count": 287
        }, 
        {
            "source": "moscow_venues = getNearbyVenues(names=mdist['District'],\n                                   latitudes=mdist['Latitude'],\n                                   longitudes=mdist['Longitude']\n                                  )\nmoscow_venues.head()", 
            "cell_type": "code", 
            "metadata": {}, 
            "outputs": [
                {
                    "output_type": "execute_result", 
                    "data": {
                        "text/html": "<div>\n<style scoped>\n    .dataframe tbody tr th:only-of-type {\n        vertical-align: middle;\n    }\n\n    .dataframe tbody tr th {\n        vertical-align: top;\n    }\n\n    .dataframe thead th {\n        text-align: right;\n    }\n</style>\n<table border=\"1\" class=\"dataframe\">\n  <thead>\n    <tr style=\"text-align: right;\">\n      <th></th>\n      <th>District</th>\n      <th>District Latitude</th>\n      <th>District Longitude</th>\n      <th>Venue</th>\n      <th>Venue Latitude</th>\n      <th>Venue Longitude</th>\n      <th>Venue Category</th>\n    </tr>\n  </thead>\n  <tbody>\n    <tr>\n      <th>0</th>\n      <td>Kurkino</td>\n      <td>55.891917</td>\n      <td>37.388824</td>\n      <td>Modulus</td>\n      <td>55.894698</td>\n      <td>37.389286</td>\n      <td>Dance Studio</td>\n    </tr>\n    <tr>\n      <th>1</th>\n      <td>Kurkino</td>\n      <td>55.891917</td>\n      <td>37.388824</td>\n      <td>Melior</td>\n      <td>55.895828</td>\n      <td>37.391191</td>\n      <td>Dance Studio</td>\n    </tr>\n    <tr>\n      <th>2</th>\n      <td>Kurkino</td>\n      <td>55.891917</td>\n      <td>37.388824</td>\n      <td>Todes</td>\n      <td>55.897382</td>\n      <td>37.389333</td>\n      <td>Dance Studio</td>\n    </tr>\n    <tr>\n      <th>3</th>\n      <td>Kurkino</td>\n      <td>55.891917</td>\n      <td>37.388824</td>\n      <td>\u0426\u0435\u043d\u0442\u0440 \u0422\u0432\u043e\u0440\u0447\u0435\u0441\u0442\u0432\u0430 \u0418 \u041e\u0431\u0443\u0447\u0435\u043d\u0438\u044f \"\u0412\u0435\u0440\u043d\u044b\u0439 \u041a\u0443\u0440\u0441\"</td>\n      <td>55.896126</td>\n      <td>37.396305</td>\n      <td>Performing Arts Venue</td>\n    </tr>\n    <tr>\n      <th>4</th>\n      <td>Kurkino</td>\n      <td>55.891917</td>\n      <td>37.388824</td>\n      <td>Coral travel</td>\n      <td>55.897500</td>\n      <td>37.405043</td>\n      <td>Tour Provider</td>\n    </tr>\n  </tbody>\n</table>\n</div>", 
                        "text/plain": "  District  District Latitude  District Longitude  \\\n0  Kurkino          55.891917           37.388824   \n1  Kurkino          55.891917           37.388824   \n2  Kurkino          55.891917           37.388824   \n3  Kurkino          55.891917           37.388824   \n4  Kurkino          55.891917           37.388824   \n\n                                       Venue  Venue Latitude  Venue Longitude  \\\n0                                    Modulus       55.894698        37.389286   \n1                                     Melior       55.895828        37.391191   \n2                                      Todes       55.897382        37.389333   \n3  \u0426\u0435\u043d\u0442\u0440 \u0422\u0432\u043e\u0440\u0447\u0435\u0441\u0442\u0432\u0430 \u0418 \u041e\u0431\u0443\u0447\u0435\u043d\u0438\u044f \"\u0412\u0435\u0440\u043d\u044b\u0439 \u041a\u0443\u0440\u0441\"       55.896126        37.396305   \n4                               Coral travel       55.897500        37.405043   \n\n          Venue Category  \n0           Dance Studio  \n1           Dance Studio  \n2           Dance Studio  \n3  Performing Arts Venue  \n4          Tour Provider  "
                    }, 
                    "execution_count": 288, 
                    "metadata": {}
                }
            ], 
            "execution_count": 288
        }, 
        {
            "source": "<p>I drop duplicates and get the total number of venues within each area, in total \u2013 77 venue for 7 areas.</p>", 
            "cell_type": "markdown", 
            "metadata": {}
        }, 
        {
            "source": "#delete duplicate rows\nmoscow_venues.drop_duplicates(keep=False, inplace=True)\nmoscow_venues[['District', 'Venue Category']].groupby(\"District\").count()", 
            "cell_type": "code", 
            "metadata": {}, 
            "outputs": [
                {
                    "output_type": "execute_result", 
                    "data": {
                        "text/html": "<div>\n<style scoped>\n    .dataframe tbody tr th:only-of-type {\n        vertical-align: middle;\n    }\n\n    .dataframe tbody tr th {\n        vertical-align: top;\n    }\n\n    .dataframe thead th {\n        text-align: right;\n    }\n</style>\n<table border=\"1\" class=\"dataframe\">\n  <thead>\n    <tr style=\"text-align: right;\">\n      <th></th>\n      <th>Venue Category</th>\n    </tr>\n    <tr>\n      <th>District</th>\n      <th></th>\n    </tr>\n  </thead>\n  <tbody>\n    <tr>\n      <th>Khoroshovo-Mnevniki</th>\n      <td>13</td>\n    </tr>\n    <tr>\n      <th>Kurkino</th>\n      <td>6</td>\n    </tr>\n    <tr>\n      <th>Mitino</th>\n      <td>9</td>\n    </tr>\n    <tr>\n      <th>North Tushino</th>\n      <td>10</td>\n    </tr>\n    <tr>\n      <th>Pokrovskoe-Streshnevo</th>\n      <td>10</td>\n    </tr>\n    <tr>\n      <th>Shchukino</th>\n      <td>18</td>\n    </tr>\n    <tr>\n      <th>South Tushino</th>\n      <td>8</td>\n    </tr>\n    <tr>\n      <th>Strogino</th>\n      <td>3</td>\n    </tr>\n  </tbody>\n</table>\n</div>", 
                        "text/plain": "                       Venue Category\nDistrict                             \nKhoroshovo-Mnevniki                13\nKurkino                             6\nMitino                              9\nNorth Tushino                      10\nPokrovskoe-Streshnevo              10\nShchukino                          18\nSouth Tushino                       8\nStrogino                            3"
                    }, 
                    "execution_count": 289, 
                    "metadata": {}
                }
            ], 
            "execution_count": 289
        }, 
        {
            "source": "print('There are ', moscow_venues.shape[0], 'venues for ', moscow_venues.shape[1], ' areas.')", 
            "cell_type": "code", 
            "metadata": {}, 
            "outputs": [
                {
                    "output_type": "stream", 
                    "name": "stdout", 
                    "text": "There are  77 venues for  7  areas.\n"
                }
            ], 
            "execution_count": 290
        }, 
        {
            "source": "<p>Now I do the same for category \u2018Food\u2019.</p>", 
            "cell_type": "markdown", 
            "metadata": {}
        }, 
        {
            "source": "#creare a function to return venues from all districts for Food            \nimport requests\n\ndef getNearbyVenues_food(names, latitudes, longitudes, radius=2000, LIMIT=1000, categoryId='4d4b7105d754a06374d81259'):    \n    venues_list=[]\n    for name, lat, lng in zip(names, latitudes, longitudes):\n        url = 'https://api.foursquare.com/v2/venues/explore?&client_id={}&client_secret={}&v={}&ll={},{}&radius={}&limit={}&categoryId={}'.format(\n            CLIENT_ID, \n            CLIENT_SECRET, \n            VERSION, \n            lat, \n            lng, \n            radius, \n            LIMIT,\n            categoryId)\n        results = requests.get(url).json()[\"response\"]['groups'][0]['items']\n        venues_list.append([(\n            name, \n            lat, \n            lng, \n            v['venue']['name'], \n            v['venue']['location']['lat'], \n            v['venue']['location']['lng'],  \n            v['venue']['categories'][0]['name']) for v in results])\n    nearby_venues = pd.DataFrame([item for venue_list in venues_list for item in venue_list])\n    nearby_venues.columns = ['District', \n                  'District Latitude', \n                  'District Longitude', \n                  'Venue', \n                  'Venue Latitude', \n                  'Venue Longitude', \n                  'Venue Category']    \n    return(nearby_venues)", 
            "cell_type": "code", 
            "metadata": {}, 
            "outputs": [], 
            "execution_count": 291
        }, 
        {
            "source": "moscow_venues_food = getNearbyVenues_food(names=mdist['District'],\n                                   latitudes=mdist['Latitude'],\n                                   longitudes=mdist['Longitude'])\nmoscow_venues_food.head()", 
            "cell_type": "code", 
            "metadata": {}, 
            "outputs": [], 
            "execution_count": null
        }, 
        {
            "source": "moscow_venues_food.drop_duplicates(keep=False, inplace=True)\nmoscow_venues_food[['District', 'Venue Category']].groupby(\"District\").count()", 
            "cell_type": "code", 
            "metadata": {}, 
            "outputs": [], 
            "execution_count": null
        }, 
        {
            "source": "<p>To visualize how all venues are spread within areas I used the Folium library and create a new map, for Food venues I used the purple color, for all other venues \u2013 the pink color. </p>\n<p>Even from the brief look it\u2019s clear that there are already lot\u2019s of different \u2018Food\u2019 venues and so much infrastructure objects which can generate the high demand, so the competition could be quite rough.\n</p>", 
            "cell_type": "markdown", 
            "metadata": {}
        }, 
        {
            "source": "#create a map for the selected region\nmap_moscow = folium.Map(location=[latitude, longitude], zoom_start=12)\n\nfor lat, lng, venue in zip(moscow_venues['Venue Latitude'], moscow_venues['Venue Longitude'], moscow_venues['Venue']):\n    label = '{}'.format(venue)\n    label = folium.Popup(label, parse_html=True)\n    folium.CircleMarker(\n        [lat, lng],\n        radius=3,\n        popup=label,\n        color='deeppink',\n        fill=False,\n        fill_color='deeppink',\n        fill_opacity=0.7,\n        parse_html=False).add_to(map_moscow)  \n    \nfor lat, lng, venue in zip(moscow_venues_food['Venue Latitude'], moscow_venues_food['Venue Longitude'], moscow_venues_food['Venue']):\n    label = '{}'.format(venue)\n    label = folium.Popup(label, parse_html=True)\n    folium.CircleMarker(\n        [lat, lng],\n        radius=3,\n        popup=label,\n        color='indigo',\n        fill=False,\n        fill_color='indigo',\n        fill_opacity=0.7,\n        parse_html=False).add_to(map_moscow) \n    \nmap_moscow", 
            "cell_type": "code", 
            "metadata": {
                "scrolled": true
            }, 
            "outputs": [], 
            "execution_count": null
        }, 
        {
            "source": "<p>For further analysis I\u2019m using k-mean clustering. I used k=4, also I added top-5 venues for each area. </p>", 
            "cell_type": "markdown", 
            "metadata": {}
        }, 
        {
            "source": "# one hot encoding\nmoscow_onehot = pd.get_dummies(moscow_venues[['Venue Category']], prefix=\"\", prefix_sep=\"\")\nmoscow_onehot['District'] = moscow_venues['District'] \nfixed_columns = [moscow_onehot.columns[-1]] + list(moscow_onehot.columns[:-1])\nmoscow_onehot = moscow_onehot[fixed_columns]\nmoscow_grouped = moscow_onehot.groupby('District').mean().reset_index()\n\nnum_top_venues = 3\n\nfor hood in moscow_grouped['District']:\n    temp = moscow_grouped[moscow_grouped['District'] == hood].T.reset_index()\n    temp.columns = ['venue','freq']\n    temp = temp.iloc[1:]\n    temp['freq'] = temp['freq'].astype(float)\n    temp = temp.round({'freq': 2})", 
            "cell_type": "code", 
            "metadata": {}, 
            "outputs": [], 
            "execution_count": null
        }, 
        {
            "source": "#convert into dataframe to see top venues\ndef return_most_common_venues(row, num_top_venues):\n    row_categories = row.iloc[1:]\n    row_categories_sorted = row_categories.sort_values(ascending=False) \n    return row_categories_sorted.index.values[0:num_top_venues]\n    \nnum_top_venues = 5\nindicators = ['st', 'nd', 'rd']\ncolumns = ['District']\nfor ind in np.arange(num_top_venues):\n    try:\n        columns.append('{}{} Most Common Venue'.format(ind+1, indicators[ind]))\n    except:\n        columns.append('{}th Most Common Venue'.format(ind+1))\n\nneighborhoods_venues_sorted = pd.DataFrame(columns=columns)\nneighborhoods_venues_sorted['District'] = moscow_grouped['District']\n\nfor ind in np.arange(moscow_grouped.shape[0]):\n    neighborhoods_venues_sorted.iloc[ind, 1:] = return_most_common_venues(moscow_grouped.iloc[ind, :], num_top_venues)\n\nneighborhoods_venues_sorted.head(8)", 
            "cell_type": "code", 
            "metadata": {}, 
            "outputs": [], 
            "execution_count": null
        }, 
        {
            "source": "#cluster districts\nkclusters = 4\nmoscow_grouped_clustering = moscow_grouped.drop('District', 1)\nkmeans = KMeans(n_clusters=kclusters, random_state=0).fit(moscow_grouped_clustering)\nkmeans.labels_[0:10] \nneighborhoods_venues_sorted.insert(0, 'Cluster Labels', kmeans.labels_)\nmoscow_merged = df_mdist\nmoscow_merged = moscow_merged.join(neighborhoods_venues_sorted.set_index('District'), on='District')\nmoscow_merged.head(8) ", 
            "cell_type": "code", 
            "metadata": {}, 
            "outputs": [], 
            "execution_count": null
        }, 
        {
            "source": "<h3>Cluster 1 - Strogino, Kurkino.</h3>", 
            "cell_type": "markdown", 
            "metadata": {}
        }, 
        {
            "source": "moscow_merged.loc[moscow_merged['Cluster Labels'] == 0, moscow_merged.columns[[0] + list(range(4, moscow_merged.shape[1]))]]", 
            "cell_type": "code", 
            "metadata": {}, 
            "outputs": [], 
            "execution_count": null
        }, 
        {
            "source": "<h3>Cluster 2 - North Tushino, South Tushino.</h3>", 
            "cell_type": "markdown", 
            "metadata": {}
        }, 
        {
            "source": "moscow_merged.loc[moscow_merged['Cluster Labels'] == 1, moscow_merged.columns[[0] + list(range(4, moscow_merged.shape[1]))]]", 
            "cell_type": "code", 
            "metadata": {
                "scrolled": false
            }, 
            "outputs": [], 
            "execution_count": null
        }, 
        {
            "source": "<h3>Cluster 3 - Pokrovskoe-Streshnevo, Khoroshovo-Mnevniki, Shchukino.</h3>", 
            "cell_type": "markdown", 
            "metadata": {}
        }, 
        {
            "source": "moscow_merged.loc[moscow_merged['Cluster Labels'] == 2, moscow_merged.columns[[0] + list(range(4, moscow_merged.shape[1]))]]", 
            "cell_type": "code", 
            "metadata": {
                "scrolled": true
            }, 
            "outputs": [], 
            "execution_count": null
        }, 
        {
            "source": "<h3>Cluster 4 - Mitino.</h3>", 
            "cell_type": "markdown", 
            "metadata": {}
        }, 
        {
            "source": "moscow_merged.loc[moscow_merged['Cluster Labels'] == 3, moscow_merged.columns[[0] + list(range(4, moscow_merged.shape[1]))]]", 
            "cell_type": "code", 
            "metadata": {}, 
            "outputs": [], 
            "execution_count": null
        }, 
        {
            "source": "<h2>IV.\tResults.</h2>", 
            "cell_type": "markdown", 
            "metadata": {}
        }, 
        {
            "source": "<p>I created the new map to visualize clusters and the existing venues.</p>", 
            "cell_type": "markdown", 
            "metadata": {}
        }, 
        {
            "source": "#create map with clusters\nmap_clusters = folium.Map(location=[latitude, longitude], zoom_start=10)\n\nx = np.arange(kclusters)\nys = [i + x + (i*x)**2 for i in range(kclusters)]\ncolors_array = cm.rainbow(np.linspace(0, 1, len(ys)))\nrainbow = [colors.rgb2hex(i) for i in colors_array]\n\nmarkers_colors = []\nfor lat, lon, poi, cluster in zip(moscow_merged['Latitude'], moscow_merged['Longitude'], moscow_merged['District'], moscow_merged['Cluster Labels']):\n    label = folium.Popup(str(poi) + ' Cluster ' + str(cluster), parse_html=True)\n    folium.CircleMarker(\n        [lat, lon],\n        radius=25,\n        popup=label,\n        color=rainbow[cluster-1],\n        fill=True,\n        fill_color=rainbow[cluster-1],\n        fill_opacity=0.2).add_to(map_moscow)\n\nmap_moscow", 
            "cell_type": "code", 
            "metadata": {
                "scrolled": true
            }, 
            "outputs": [], 
            "execution_count": null
        }, 
        {
            "source": "<p>From this map and evaluation of each clusters I can give the recommendation to open the restaurant of the Cluster 3 (areas Pokrovskoe-Streshnevo, Khoroshovo-Mnevniki, Shchukino). Among the top-values are enough popular places such as museums, galleries etc. Comparing with other cluster it\u2019s not so far from the city center, which may give additional benefits.   </p>", 
            "cell_type": "markdown", 
            "metadata": {}
        }, 
        {
            "source": "<h2>V.\tDiscussions.</h2>", 
            "cell_type": "markdown", 
            "metadata": {}
        }, 
        {
            "source": "<p>As it was mentioned in the beginning this research was based only on data of the one district in Moscow - Northwest Administrative District which I believe to be the fastest growing. For better predictions it\u2019s necessary to get information for the whole city as well.</p>\n<p>For the more proper research the potential investor should know the type of the restaurant he plans to open and the average pricing so all other categories could be dropped in Foursquare (or other sources). </p>\n<p>Another point \u2013 for venues search it was used only Foursquare API source. The quantity of Non-Food venues which I get looks quite small for the area which means that probably not all mentioned on the Foursquare database. It means that it should be used additional statistical and geo databases (probably Google Nearby Search or some local sources) to get more results.</p>\n<p>And the last but not least point is to have the statistical data for the profitability of existing competitors among areas and use it for clustering and segmentation as well, as it\u2019s a key point of each business work. </p>", 
            "cell_type": "markdown", 
            "metadata": {}
        }, 
        {
            "source": "<h2>VI. Conclusion.</h2>", 
            "cell_type": "markdown", 
            "metadata": {}
        }, 
        {
            "source": "<p>Making such type of the research should be the first thing which the investor do before creating any new business. It shows in the very simple way (even for someone without deep business knowledge) all main aspects which should be considered \u2013 the potential demand (and where it comes from), potential profitability and competitors. </p>", 
            "cell_type": "markdown", 
            "metadata": {}
        }, 
        {
            "source": "<h2>VII.\tReferences.</h2>", 
            "cell_type": "markdown", 
            "metadata": {}
        }, 
        {
            "source": "<ul>\n    <li><a href = \"https://developer.foursquare.com/docs\">Foursquare API.</a></li>\n    <li><a href = \"https://developers.google.com/maps/documentation/geocoding/intro\">Google maps for developers.</a></li>\n    <li><a href = \"http://mosopen.ru/regions\">Moscow districts.</a></li>", 
            "cell_type": "markdown", 
            "metadata": {}
        }
    ], 
    "metadata": {
        "kernelspec": {
            "display_name": "Python 3.5", 
            "name": "python3", 
            "language": "python"
        }, 
        "language_info": {
            "mimetype": "text/x-python", 
            "nbconvert_exporter": "python", 
            "version": "3.5.5", 
            "name": "python", 
            "file_extension": ".py", 
            "pygments_lexer": "ipython3", 
            "codemirror_mode": {
                "version": 3, 
                "name": "ipython"
            }
        }
    }, 
    "nbformat": 4
}
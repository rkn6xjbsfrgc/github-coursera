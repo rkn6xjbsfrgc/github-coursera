{
    "nbformat_minor": 1, 
    "cells": [
        {
            "source": "<h1>Capstone Project - The Battle of Neighborhoods</h1>", 
            "cell_type": "markdown", 
            "metadata": {
                "collapsed": true
            }
        }, 
        {
            "source": "<h2>A description of the problem and a discussion of the background.</h2>", 
            "cell_type": "markdown", 
            "metadata": {}
        }, 
        {
            "source": "<p>Someone wants to open a new restaurant in Moscow. Type of the restaurant - average prices, within the city. <b>The goal</b> is to recommend where they can open it.</p> \n\n<p><b>Stakeholders</b> - medium-sized businesses, looking for a stable source of profit but who do not have enough sources to create a high-class venue. The city center is full of restaurants, the competition is very high and the rental price is too high, so people are looking for alternative places.</p>", 
            "cell_type": "markdown", 
            "metadata": {}
        }, 
        {
            "source": "<h2>A description of the data and how it will be used to solve the problem.</h2>", 
            "cell_type": "markdown", 
            "metadata": {}
        }, 
        {
            "source": "<p><b>Data source</b> - Foursquare.</p>\n<p>Find all venues within 5 km from the city center (Red Square). </p>\n<p>Group venues by neighborhoods. </p>\n<p> Add venues ranking by neighborhoods.</p>\n<p>Cluster Neighborhoods.</p>\n<p>Drop clusters with restaurants in top venues as there will be too high competition</p>\n<p>Analyze rest clusters, find the one with the highest frequency of fashion shops and business centers in the top.</p>", 
            "cell_type": "markdown", 
            "metadata": {}
        }
    ], 
    "metadata": {
        "kernelspec": {
            "display_name": "Python 3.5", 
            "name": "python3", 
            "language": "python"
        }, 
        "language_info": {
            "mimetype": "text/x-python", 
            "nbconvert_exporter": "python", 
            "version": "3.5.5", 
            "name": "python", 
            "pygments_lexer": "ipython3", 
            "file_extension": ".py", 
            "codemirror_mode": {
                "version": 3, 
                "name": "ipython"
            }
        }
    }, 
    "nbformat": 4
}
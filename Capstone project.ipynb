{
    "nbformat_minor": 1, 
    "cells": [
        {
            "source": "<h1>Segmenting and Clustering Neighborhoods in Toronto</h1>", 
            "cell_type": "markdown", 
            "metadata": {
                "collapsed": true
            }
        }, 
        {
            "source": "import pandas as pd\nimport numpy as np\nimport requests\nfrom bs4 import BeautifulSoup\n\nsource = requests.get('https://en.wikipedia.org/wiki/List_of_postal_codes_of_Canada:_M').text\n\n#soup.body.table.contents\n\nfor string in soup.body.table.stripped_strings:\n    print(repr(string))\n#soup = BeautifulSoup(source, 'lxml')\n#toronto_wiki = soup.find('body')\n#toronto_postals =  toronto_wiki.find('table', class_=\"wikitable sortable\").text\n#print(toronto_postals)\n  ", 
            "cell_type": "code", 
            "metadata": {}, 
            "outputs": [
                {
                    "output_type": "stream", 
                    "name": "stdout", 
                    "text": "'Postcode'\n'Borough'\n'Neighbourhood'\n'M1A'\n'Not assigned'\n'Not assigned'\n'M2A'\n'Not assigned'\n'Not assigned'\n'M3A'\n'North York'\n'Parkwoods'\n'M4A'\n'North York'\n'Victoria Village'\n'M5A'\n'Downtown Toronto'\n'Harbourfront'\n'M5A'\n'Downtown Toronto'\n'Regent Park'\n'M6A'\n'North York'\n'Lawrence Heights'\n'M6A'\n'North York'\n'Lawrence Manor'\n'M7A'\n\"Queen's Park\"\n'Not assigned'\n'M8A'\n'Not assigned'\n'Not assigned'\n'M9A'\n'Etobicoke'\n'Islington Avenue'\n'M1B'\n'Scarborough'\n'Rouge'\n'M1B'\n'Scarborough'\n'Malvern'\n'M2B'\n'Not assigned'\n'Not assigned'\n'M3B'\n'North York'\n'Don Mills North'\n'M4B'\n'East York'\n'Woodbine Gardens'\n'M4B'\n'East York'\n'Parkview Hill'\n'M5B'\n'Downtown Toronto'\n'Ryerson'\n'M5B'\n'Downtown Toronto'\n'Garden District'\n'M6B'\n'North York'\n'Glencairn'\n'M7B'\n'Not assigned'\n'Not assigned'\n'M8B'\n'Not assigned'\n'Not assigned'\n'M9B'\n'Etobicoke'\n'Cloverdale'\n'M9B'\n'Etobicoke'\n'Islington'\n'M9B'\n'Etobicoke'\n'Martin Grove'\n'M9B'\n'Etobicoke'\n'Princess Gardens'\n'M9B'\n'Etobicoke'\n'West Deane Park'\n'M1C'\n'Scarborough'\n'Highland Creek'\n'M1C'\n'Scarborough'\n'Rouge Hill'\n'M1C'\n'Scarborough'\n'Port Union'\n'M2C'\n'Not assigned'\n'Not assigned'\n'M3C'\n'North York'\n'Flemingdon Park'\n'M3C'\n'North York'\n'Don Mills South'\n'M4C'\n'East York'\n'Woodbine Heights'\n'M5C'\n'Downtown Toronto'\n'St. James Town'\n'M6C'\n'York'\n'Humewood-Cedarvale'\n'M7C'\n'Not assigned'\n'Not assigned'\n'M8C'\n'Not assigned'\n'Not assigned'\n'M9C'\n'Etobicoke'\n'Bloordale Gardens'\n'M9C'\n'Etobicoke'\n'Eringate'\n'M9C'\n'Etobicoke'\n'Markland Wood'\n'M9C'\n'Etobicoke'\n'Old Burnhamthorpe'\n'M1E'\n'Scarborough'\n'Guildwood'\n'M1E'\n'Scarborough'\n'Morningside'\n'M1E'\n'Scarborough'\n'West Hill'\n'M2E'\n'Not assigned'\n'Not assigned'\n'M3E'\n'Not assigned'\n'Not assigned'\n'M4E'\n'East Toronto'\n'The Beaches'\n'M5E'\n'Downtown Toronto'\n'Berczy Park'\n'M6E'\n'York'\n'Caledonia-Fairbanks'\n'M7E'\n'Not assigned'\n'Not assigned'\n'M8E'\n'Not assigned'\n'Not assigned'\n'M9E'\n'Not assigned'\n'Not assigned'\n'M1G'\n'Scarborough'\n'Woburn'\n'M2G'\n'Not assigned'\n'Not assigned'\n'M3G'\n'Not assigned'\n'Not assigned'\n'M4G'\n'East York'\n'Leaside'\n'M5G'\n'Downtown Toronto'\n'Central Bay Street'\n'M6G'\n'Downtown Toronto'\n'Christie'\n'M7G'\n'Not assigned'\n'Not assigned'\n'M8G'\n'Not assigned'\n'Not assigned'\n'M9G'\n'Not assigned'\n'Not assigned'\n'M1H'\n'Scarborough'\n'Cedarbrae'\n'M2H'\n'North York'\n'Hillcrest Village'\n'M3H'\n'North York'\n'Bathurst Manor'\n'M3H'\n'North York'\n'Downsview North'\n'M3H'\n'North York'\n'Wilson Heights'\n'M4H'\n'East York'\n'Thorncliffe Park'\n'M5H'\n'Downtown Toronto'\n'Adelaide'\n'M5H'\n'Downtown Toronto'\n'King'\n'M5H'\n'Downtown Toronto'\n'Richmond'\n'M6H'\n'West Toronto'\n'Dovercourt Village'\n'M6H'\n'West Toronto'\n'Dufferin'\n'M7H'\n'Not assigned'\n'Not assigned'\n'M8H'\n'Not assigned'\n'Not assigned'\n'M9H'\n'Not assigned'\n'Not assigned'\n'M1J'\n'Scarborough'\n'Scarborough Village'\n'M2J'\n'North York'\n'Fairview'\n'M2J'\n'North York'\n'Henry Farm'\n'M2J'\n'North York'\n'Oriole'\n'M3J'\n'North York'\n'Northwood Park'\n'M3J'\n'North York'\n'York University'\n'M4J'\n'East York'\n'East Toronto'\n'M5J'\n'Downtown Toronto'\n'Harbourfront East'\n'M5J'\n'Downtown Toronto'\n'Toronto Islands'\n'M5J'\n'Downtown Toronto'\n'Union Station'\n'M6J'\n'West Toronto'\n'Little Portugal'\n'M6J'\n'West Toronto'\n'Trinity'\n'M7J'\n'Not assigned'\n'Not assigned'\n'M8J'\n'Not assigned'\n'Not assigned'\n'M9J'\n'Not assigned'\n'Not assigned'\n'M1K'\n'Scarborough'\n'East Birchmount Park'\n'M1K'\n'Scarborough'\n'Ionview'\n'M1K'\n'Scarborough'\n'Kennedy Park'\n'M2K'\n'North York'\n'Bayview Village'\n'M3K'\n'North York'\n'CFB Toronto'\n'M3K'\n'North York'\n'Downsview East'\n'M4K'\n'East Toronto'\n'The Danforth West'\n'M4K'\n'East Toronto'\n'Riverdale'\n'M5K'\n'Downtown Toronto'\n'Design Exchange'\n'M5K'\n'Downtown Toronto'\n'Toronto Dominion Centre'\n'M6K'\n'West Toronto'\n'Brockton'\n'M6K'\n'West Toronto'\n'Exhibition Place'\n'M6K'\n'West Toronto'\n'Parkdale Village'\n'M7K'\n'Not assigned'\n'Not assigned'\n'M8K'\n'Not assigned'\n'Not assigned'\n'M9K'\n'Not assigned'\n'Not assigned'\n'M1L'\n'Scarborough'\n'Clairlea'\n'M1L'\n'Scarborough'\n'Golden Mile'\n'M1L'\n'Scarborough'\n'Oakridge'\n'M2L'\n'North York'\n'Silver Hills'\n'M2L'\n'North York'\n'York Mills'\n'M3L'\n'North York'\n'Downsview West'\n'M4L'\n'East Toronto'\n'The Beaches West'\n'M4L'\n'East Toronto'\n'India Bazaar'\n'M5L'\n'Downtown Toronto'\n'Commerce Court'\n'M5L'\n'Downtown Toronto'\n'Victoria Hotel'\n'M6L'\n'North York'\n'Maple Leaf Park'\n'M6L'\n'North York'\n'North Park'\n'M6L'\n'North York'\n'Upwood Park'\n'M7L'\n'Not assigned'\n'Not assigned'\n'M8L'\n'Not assigned'\n'Not assigned'\n'M9L'\n'North York'\n'Humber Summit'\n'M1M'\n'Scarborough'\n'Cliffcrest'\n'M1M'\n'Scarborough'\n'Cliffside'\n'M1M'\n'Scarborough'\n'Scarborough Village West'\n'M2M'\n'North York'\n'Newtonbrook'\n'M2M'\n'North York'\n'Willowdale'\n'M3M'\n'North York'\n'Downsview Central'\n'M4M'\n'East Toronto'\n'Studio District'\n'M5M'\n'North York'\n'Bedford Park'\n'M5M'\n'North York'\n'Lawrence Manor East'\n'M6M'\n'York'\n'Del Ray'\n'M6M'\n'York'\n'Keelesdale'\n'M6M'\n'York'\n'Mount Dennis'\n'M6M'\n'York'\n'Silverthorn'\n'M7M'\n'Not assigned'\n'Not assigned'\n'M8M'\n'Not assigned'\n'Not assigned'\n'M9M'\n'North York'\n'Emery'\n'M9M'\n'North York'\n'Humberlea'\n'M1N'\n'Scarborough'\n'Birch Cliff'\n'M1N'\n'Scarborough'\n'Cliffside West'\n'M2N'\n'North York'\n'Willowdale South'\n'M3N'\n'North York'\n'Downsview Northwest'\n'M4N'\n'Central Toronto'\n'Lawrence Park'\n'M5N'\n'Central Toronto'\n'Roselawn'\n'M6N'\n'York'\n'The Junction North'\n'M6N'\n'York'\n'Runnymede'\n'M7N'\n'Not assigned'\n'Not assigned'\n'M8N'\n'Not assigned'\n'Not assigned'\n'M9N'\n'York'\n'Weston'\n'M1P'\n'Scarborough'\n'Dorset Park'\n'M1P'\n'Scarborough'\n'Scarborough Town Centre'\n'M1P'\n'Scarborough'\n'Wexford Heights'\n'M2P'\n'North York'\n'York Mills West'\n'M3P'\n'Not assigned'\n'Not assigned'\n'M4P'\n'Central Toronto'\n'Davisville North'\n'M5P'\n'Central Toronto'\n'Forest Hill North'\n'M5P'\n'Central Toronto'\n'Forest Hill West'\n'M6P'\n'West Toronto'\n'High Park'\n'M6P'\n'West Toronto'\n'The Junction South'\n'M7P'\n'Not assigned'\n'Not assigned'\n'M8P'\n'Not assigned'\n'Not assigned'\n'M9P'\n'Etobicoke'\n'Westmount'\n'M1R'\n'Scarborough'\n'Maryvale'\n'M1R'\n'Scarborough'\n'Wexford'\n'M2R'\n'North York'\n'Willowdale West'\n'M3R'\n'Not assigned'\n'Not assigned'\n'M4R'\n'Central Toronto'\n'North Toronto West'\n'M5R'\n'Central Toronto'\n'The Annex'\n'M5R'\n'Central Toronto'\n'North Midtown'\n'M5R'\n'Central Toronto'\n'Yorkville'\n'M6R'\n'West Toronto'\n'Parkdale'\n'M6R'\n'West Toronto'\n'Roncesvalles'\n'M7R'\n'Mississauga'\n'Canada Post Gateway Processing Centre'\n'M8R'\n'Not assigned'\n'Not assigned'\n'M9R'\n'Etobicoke'\n'Kingsview Village'\n'M9R'\n'Etobicoke'\n'Martin Grove Gardens'\n'M9R'\n'Etobicoke'\n'Richview Gardens'\n'M9R'\n'Etobicoke'\n'St. Phillips'\n'M1S'\n'Scarborough'\n'Agincourt'\n'M2S'\n'Not assigned'\n'Not assigned'\n'M3S'\n'Not assigned'\n'Not assigned'\n'M4S'\n'Central Toronto'\n'Davisville'\n'M5S'\n'Downtown Toronto'\n'Harbord'\n'M5S'\n'Downtown Toronto'\n'University of Toronto'\n'M6S'\n'West Toronto'\n'Runnymede'\n'M6S'\n'West Toronto'\n'Swansea'\n'M7S'\n'Not assigned'\n'Not assigned'\n'M8S'\n'Not assigned'\n'Not assigned'\n'M9S'\n'Not assigned'\n'Not assigned'\n'M1T'\n'Scarborough'\n'Clarks Corners'\n'M1T'\n'Scarborough'\n'Sullivan'\n'M1T'\n'Scarborough'\n\"Tam O'Shanter\"\n'M2T'\n'Not assigned'\n'Not assigned'\n'M3T'\n'Not assigned'\n'Not assigned'\n'M4T'\n'Central Toronto'\n'Moore Park'\n'M4T'\n'Central Toronto'\n'Summerhill East'\n'M5T'\n'Downtown Toronto'\n'Chinatown'\n'M5T'\n'Downtown Toronto'\n'Grange Park'\n'M5T'\n'Downtown Toronto'\n'Kensington Market'\n'M6T'\n'Not assigned'\n'Not assigned'\n'M7T'\n'Not assigned'\n'Not assigned'\n'M8T'\n'Not assigned'\n'Not assigned'\n'M9T'\n'Not assigned'\n'Not assigned'\n'M1V'\n'Scarborough'\n'Agincourt North'\n'M1V'\n'Scarborough'\n\"L'Amoreaux East\"\n'M1V'\n'Scarborough'\n'Milliken'\n'M1V'\n'Scarborough'\n'Steeles East'\n'M2V'\n'Not assigned'\n'Not assigned'\n'M3V'\n'Not assigned'\n'Not assigned'\n'M4V'\n'Central Toronto'\n'Deer Park'\n'M4V'\n'Central Toronto'\n'Forest Hill SE'\n'M4V'\n'Central Toronto'\n'Rathnelly'\n'M4V'\n'Central Toronto'\n'South Hill'\n'M4V'\n'Central Toronto'\n'Summerhill West'\n'M5V'\n'Downtown Toronto'\n'CN Tower'\n'M5V'\n'Downtown Toronto'\n'Bathurst Quay'\n'M5V'\n'Downtown Toronto'\n'Island airport'\n'M5V'\n'Downtown Toronto'\n'Harbourfront West'\n'M5V'\n'Downtown Toronto'\n'King and Spadina'\n'M5V'\n'Downtown Toronto'\n'Railway Lands'\n'M5V'\n'Downtown Toronto'\n'South Niagara'\n'M6V'\n'Not assigned'\n'Not assigned'\n'M7V'\n'Not assigned'\n'Not assigned'\n'M8V'\n'Etobicoke'\n'Humber Bay Shores'\n'M8V'\n'Etobicoke'\n'Mimico South'\n'M8V'\n'Etobicoke'\n'New Toronto'\n'M9V'\n'Etobicoke'\n'Albion Gardens'\n'M9V'\n'Etobicoke'\n'Beaumond Heights'\n'M9V'\n'Etobicoke'\n'Humbergate'\n'M9V'\n'Etobicoke'\n'Jamestown'\n'M9V'\n'Etobicoke'\n'Mount Olive'\n'M9V'\n'Etobicoke'\n'Silverstone'\n'M9V'\n'Etobicoke'\n'South Steeles'\n'M9V'\n'Etobicoke'\n'Thistletown'\n'M1W'\n'Scarborough'\n\"L'Amoreaux West\"\n'M1W'\n'Scarborough'\n'Steeles West'\n'M2W'\n'Not assigned'\n'Not assigned'\n'M3W'\n'Not assigned'\n'Not assigned'\n'M4W'\n'Downtown Toronto'\n'Rosedale'\n'M5W'\n'Downtown Toronto'\n'Stn A PO Boxes 25 The Esplanade'\n'M6W'\n'Not assigned'\n'Not assigned'\n'M7W'\n'Not assigned'\n'Not assigned'\n'M8W'\n'Etobicoke'\n'Alderwood'\n'M8W'\n'Etobicoke'\n'Long Branch'\n'M9W'\n'Etobicoke'\n'Northwest'\n'M1X'\n'Scarborough'\n'Upper Rouge'\n'M2X'\n'Not assigned'\n'Not assigned'\n'M3X'\n'Not assigned'\n'Not assigned'\n'M4X'\n'Downtown Toronto'\n'Cabbagetown'\n'M4X'\n'Downtown Toronto'\n'St. James Town'\n'M5X'\n'Downtown Toronto'\n'First Canadian Place'\n'M5X'\n'Downtown Toronto'\n'Underground city'\n'M6X'\n'Not assigned'\n'Not assigned'\n'M7X'\n'Not assigned'\n'Not assigned'\n'M8X'\n'Etobicoke'\n'The Kingsway'\n'M8X'\n'Etobicoke'\n'Montgomery Road'\n'M8X'\n'Etobicoke'\n'Old Mill North'\n'M9X'\n'Not assigned'\n'Not assigned'\n'M1Y'\n'Not assigned'\n'Not assigned'\n'M2Y'\n'Not assigned'\n'Not assigned'\n'M3Y'\n'Not assigned'\n'Not assigned'\n'M4Y'\n'Downtown Toronto'\n'Church and Wellesley'\n'M5Y'\n'Not assigned'\n'Not assigned'\n'M6Y'\n'Not assigned'\n'Not assigned'\n'M7Y'\n'East Toronto'\n'Business Reply Mail Processing Centre 969 Eastern'\n'M8Y'\n'Etobicoke'\n'Humber Bay'\n'M8Y'\n'Etobicoke'\n\"King's Mill Park\"\n'M8Y'\n'Etobicoke'\n'Kingsway Park South East'\n'M8Y'\n'Etobicoke'\n'Mimico NE'\n'M8Y'\n'Etobicoke'\n'Old Mill South'\n'M8Y'\n'Etobicoke'\n'The Queensway East'\n'M8Y'\n'Etobicoke'\n'Royal York South East'\n'M8Y'\n'Etobicoke'\n'Sunnylea'\n'M9Y'\n'Not assigned'\n'Not assigned'\n'M1Z'\n'Not assigned'\n'Not assigned'\n'M2Z'\n'Not assigned'\n'Not assigned'\n'M3Z'\n'Not assigned'\n'Not assigned'\n'M4Z'\n'Not assigned'\n'Not assigned'\n'M5Z'\n'Not assigned'\n'Not assigned'\n'M6Z'\n'Not assigned'\n'Not assigned'\n'M7Z'\n'Not assigned'\n'Not assigned'\n'M8Z'\n'Etobicoke'\n'Kingsway Park South West'\n'M8Z'\n'Etobicoke'\n'Mimico NW'\n'M8Z'\n'Etobicoke'\n'The Queensway West'\n'M8Z'\n'Etobicoke'\n'Royal York South West'\n'M8Z'\n'Etobicoke'\n'South of Bloor'\n'M9Z'\n'Not assigned'\n'Not assigned'\n"
                }
            ], 
            "execution_count": 49
        }, 
        {
            "source": "", 
            "cell_type": "code", 
            "metadata": {}, 
            "outputs": [], 
            "execution_count": null
        }, 
        {
            "source": "", 
            "cell_type": "code", 
            "metadata": {}, 
            "outputs": [], 
            "execution_count": null
        }, 
        {
            "source": "", 
            "cell_type": "code", 
            "metadata": {}, 
            "outputs": [], 
            "execution_count": null
        }, 
        {
            "source": "", 
            "cell_type": "code", 
            "metadata": {}, 
            "outputs": [], 
            "execution_count": null
        }, 
        {
            "source": "", 
            "cell_type": "code", 
            "metadata": {}, 
            "outputs": [], 
            "execution_count": null
        }, 
        {
            "source": "", 
            "cell_type": "code", 
            "metadata": {}, 
            "outputs": [], 
            "execution_count": null
        }, 
        {
            "source": "", 
            "cell_type": "code", 
            "metadata": {}, 
            "outputs": [], 
            "execution_count": null
        }, 
        {
            "source": "", 
            "cell_type": "code", 
            "metadata": {}, 
            "outputs": [], 
            "execution_count": null
        }, 
        {
            "source": "", 
            "cell_type": "code", 
            "metadata": {}, 
            "outputs": [], 
            "execution_count": null
        }, 
        {
            "source": "", 
            "cell_type": "code", 
            "metadata": {}, 
            "outputs": [], 
            "execution_count": null
        }, 
        {
            "source": "", 
            "cell_type": "code", 
            "metadata": {}, 
            "outputs": [], 
            "execution_count": null
        }, 
        {
            "source": "", 
            "cell_type": "code", 
            "metadata": {}, 
            "outputs": [], 
            "execution_count": null
        }, 
        {
            "source": "", 
            "cell_type": "code", 
            "metadata": {}, 
            "outputs": [], 
            "execution_count": null
        }, 
        {
            "source": "", 
            "cell_type": "code", 
            "metadata": {}, 
            "outputs": [], 
            "execution_count": null
        }, 
        {
            "source": "", 
            "cell_type": "code", 
            "metadata": {}, 
            "outputs": [], 
            "execution_count": null
        }, 
        {
            "source": "", 
            "cell_type": "code", 
            "metadata": {}, 
            "outputs": [], 
            "execution_count": null
        }, 
        {
            "source": "", 
            "cell_type": "code", 
            "metadata": {}, 
            "outputs": [], 
            "execution_count": null
        }, 
        {
            "source": "", 
            "cell_type": "code", 
            "metadata": {}, 
            "outputs": [], 
            "execution_count": null
        }, 
        {
            "source": "", 
            "cell_type": "code", 
            "metadata": {}, 
            "outputs": [], 
            "execution_count": null
        }, 
        {
            "source": "", 
            "cell_type": "code", 
            "metadata": {}, 
            "outputs": [], 
            "execution_count": null
        }, 
        {
            "source": "", 
            "cell_type": "code", 
            "metadata": {}, 
            "outputs": [], 
            "execution_count": null
        }, 
        {
            "source": "", 
            "cell_type": "code", 
            "metadata": {}, 
            "outputs": [], 
            "execution_count": null
        }, 
        {
            "source": "", 
            "cell_type": "code", 
            "metadata": {}, 
            "outputs": [], 
            "execution_count": null
        }, 
        {
            "source": "", 
            "cell_type": "code", 
            "metadata": {}, 
            "outputs": [], 
            "execution_count": null
        }, 
        {
            "source": "", 
            "cell_type": "code", 
            "metadata": {}, 
            "outputs": [], 
            "execution_count": null
        }, 
        {
            "source": "", 
            "cell_type": "code", 
            "metadata": {}, 
            "outputs": [], 
            "execution_count": null
        }, 
        {
            "source": "", 
            "cell_type": "code", 
            "metadata": {}, 
            "outputs": [], 
            "execution_count": null
        }, 
        {
            "source": "", 
            "cell_type": "code", 
            "metadata": {}, 
            "outputs": [], 
            "execution_count": null
        }, 
        {
            "source": "", 
            "cell_type": "code", 
            "metadata": {}, 
            "outputs": [], 
            "execution_count": null
        }, 
        {
            "source": "", 
            "cell_type": "code", 
            "metadata": {}, 
            "outputs": [], 
            "execution_count": null
        }
    ], 
    "metadata": {
        "kernelspec": {
            "display_name": "Python 3.5", 
            "name": "python3", 
            "language": "python"
        }, 
        "language_info": {
            "mimetype": "text/x-python", 
            "nbconvert_exporter": "python", 
            "version": "3.5.5", 
            "name": "python", 
            "file_extension": ".py", 
            "pygments_lexer": "ipython3", 
            "codemirror_mode": {
                "version": 3, 
                "name": "ipython"
            }
        }
    }, 
    "nbformat": 4
}